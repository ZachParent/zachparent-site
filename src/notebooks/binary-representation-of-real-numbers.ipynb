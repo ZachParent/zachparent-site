{
 "cells": [
  {
   "cell_type": "markdown",
   "metadata": {},
   "source": [
    "---\n",
    "layout: post\n",
    "title: Counting Ones Problem\n",
    "excerpt: An introduction to genetic algorithms, via the Counting Ones Problem.\n",
    "date: 2024-10-06\n",
    "updatedDate: 2024-10-06\n",
    "tags:\n",
    "  - post\n",
    "  - code\n",
    "---"
   ]
  },
  {
   "cell_type": "code",
   "execution_count": 1,
   "metadata": {},
   "outputs": [],
   "source": [
    "import numpy as np"
   ]
  },
  {
   "cell_type": "code",
   "execution_count": 2,
   "metadata": {},
   "outputs": [],
   "source": [
    "a, b = -1, 2\n",
    "epsilon = 10**-6\n",
    "r = 0.637197\n",
    "expected_encoded_r = '1000101110110101000110'\n"
   ]
  },
  {
   "cell_type": "code",
   "execution_count": 3,
   "metadata": {},
   "outputs": [
    {
     "name": "stdout",
     "output_type": "stream",
     "text": [
      "k:\t\t 21\n",
      "expected_k:\t 22\n"
     ]
    }
   ],
   "source": [
    "k = int(np.ceil(np.log2((b - a)/(2*epsilon))))\n",
    "\n",
    "print('k:\\t\\t', k)\n",
    "print('expected_k:\\t', len(expected_encoded_r))"
   ]
  },
  {
   "cell_type": "code",
   "execution_count": 4,
   "metadata": {},
   "outputs": [],
   "source": [
    "def enc(r: float) -> str:\n",
    "    # Original equation: r_encoded = floor((r - a) / (b - a) * (2^k - 1) + 1/2)\n",
    "    normalized_r = (r - a) / (b - a)\n",
    "    scaled_r = normalized_r * (2**k - 1)\n",
    "    rounded_r = int(scaled_r + 1/2)\n",
    "    binary_representation = f\"{rounded_r:b}\"\n",
    "    return binary_representation\n",
    "\n",
    "def dec(encoded_r: str) -> float:\n",
    "    # Original equation: a + int(encoded_r, 2) * (b-a)/(2**k - 1)\n",
    "    encoded_int = int(encoded_r, 2)\n",
    "    scaling_factor = (b - a) / (2**k - 1)\n",
    "    scaled_value = encoded_int * scaling_factor\n",
    "    decoded_r = a + scaled_value\n",
    "    return decoded_r"
   ]
  },
  {
   "cell_type": "code",
   "execution_count": 5,
   "metadata": {},
   "outputs": [
    {
     "name": "stdout",
     "output_type": "stream",
     "text": [
      "r:\t\t\t 0.637197\n",
      "expected_encoded_r:\t 1000101110110101000110\n",
      "\n",
      "encoded_r:\t\t 100010111011010100011\n",
      "dec(encoded_r):\t\t 0.637196844671652\n",
      "rounded dec(encoded_r):\t 0.637197\n"
     ]
    }
   ],
   "source": [
    "print('r:\\t\\t\\t', r)\n",
    "print('expected_encoded_r:\\t', expected_encoded_r)\n",
    "print()\n",
    "print('encoded_r:\\t\\t', enc(r))\n",
    "print('dec(encoded_r):\\t\\t', dec(enc(r)))\n",
    "print('rounded dec(encoded_r):\\t', round(dec(enc(r)), -int(np.floor(np.log10(epsilon)))))"
   ]
  }
 ],
 "metadata": {
  "kernelspec": {
   "display_name": "base",
   "language": "python",
   "name": "python3"
  },
  "language_info": {
   "codemirror_mode": {
    "name": "ipython",
    "version": 3
   },
   "file_extension": ".py",
   "mimetype": "text/x-python",
   "name": "python",
   "nbconvert_exporter": "python",
   "pygments_lexer": "ipython3",
   "version": "3.12.2"
  }
 },
 "nbformat": 4,
 "nbformat_minor": 2
}
