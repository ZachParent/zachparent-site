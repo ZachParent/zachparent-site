{
 "cells": [
  {
   "cell_type": "markdown",
   "metadata": {},
   "source": [
    "---\n",
    "layout: post\n",
    "title: Counting Ones Problem\n",
    "excerpt: An introduction to genetic algorithms, via the Counting Ones Problem.\n",
    "date: 2024-10-06\n",
    "updatedDate: 2024-10-06\n",
    "tags:\n",
    "  - post\n",
    "  - code\n",
    "---"
   ]
  },
  {
   "cell_type": "markdown",
   "metadata": {},
   "source": [
    "### What is a genetic algorithm?\n",
    "\n",
    "Genetic algorithms are a subset of evolutionary algorithms, in which we simulate the process of natural selection to evolve a population of solutions to a problem. To accomplish this, we need to represent the solutions in a way that allows us to perform the processes of natural selection (e.g. selection, mutation, and crossover operations).\n",
    "\n",
    "One common way to represent solutions in genetic algorithms is to use binary strings (e.g. `b'01010101'` is an 8-bit binary string). Each bit in the string represents a different aspect of the solution, and we can use the tools of combinatorics to efficiently create large numbers of diverse solutions.\n",
    "\n",
    "\n"
   ]
  },
  {
   "cell_type": "markdown",
   "metadata": {},
   "source": [
    "### The \"Counting Ones Problem\"\n",
    "\n",
    "As a simple example, we could simply begin with a random bitstring, and then iteratively apply mutation and selection operations to evolve the bitstring towards a target bitstring, in our case, a bitstring of all 1s.\n",
    "\n",
    "Let's define the solution space formally.\n",
    "\n",
    "$$\n",
    "\\text{Let } X = \\{x_i\\}_{i=1}^n \\text{ where } x_i \\in \\{0, 1\\} \\\\\n",
    "$$\n",
    "\n",
    "This is a way to say that we have a bitstring $X$ of length $n$, where each bit in the bitstring is either a 0 or a 1."
   ]
  },
  {
   "cell_type": "markdown",
   "metadata": {},
   "source": [
    "\n",
    "### Defining a fitness function\n",
    "\n",
    "When iterating on solutions, we need a way to evaluate how good a solution is. One common approach is to assign a fitness score to the solution, which we can use to select the fittest solutions for keeping in the next generation.\n",
    "\n",
    "Keeping our solution simple, and sticking to the name \"Counting Ones Problem\", let's define our fitness function $F(x)$ as the number of 1s in the binary representation of $X$.\n",
    "\n",
    "$$\n",
    "f(X) = \\sum_{i=1}^{n} x_i\n",
    "$$\n"
   ]
  },
  {
   "cell_type": "markdown",
   "metadata": {},
   "source": [
    "We can take a look some example scores from the fitness function $f(X)$ for a few values of $X$, when $n = 3$. When a bit is 1, it contributes 1 to the score, and when a bit is 0, it doesn't\n",
    "\n",
    "| $X$ | $f(X)$ |\n",
    "| --- | --- |\n",
    "| `000` | 0 |\n",
    "| `001` | 1 |\n",
    "| `110` | 2 |\n",
    "| `111` | 3 |"
   ]
  },
  {
   "cell_type": "markdown",
   "metadata": {},
   "source": [
    "\n",
    "### The algorithm\n",
    "\n",
    "Now that we have defined the solution space $X$ and our fitness function $F(X)$, we want to find the value of $X$ that maximizes the fitness function $F(X)$.\n",
    "\n",
    "We can use a genetic algorithm to find this value.\n",
    "\n",
    "> **💡 Note: you may find this example trivial, and that's because it is! The Counting Ones Problem is a classic problem in genetic algorithms, and it is a good way to understand the basic concepts of genetic algorithms.**\n",
    "\n",
    "#### Steps\n",
    "\n",
    "* We initialize a random value $X_t = X_0$\n",
    "* Each generation we **mutate** the current value $X_{t-1}$ to get a new value $X_t$. (more on this in the [Mutation section](#mutation))\n",
    "\n",
    "* We then calculate the fitness of the new value $X_t$ and compare it to the fitness of the previous value $X_{t-1}$, and select the value with the highest fitness to be the current value $X_t$.\n",
    "* We repeat this process until the fitness of the current value $X_t$ is equal to the total number of bits $n$, i.e. until $F(X_t) = n$ or $X_t = \\{1, 1, \\dots, 1\\}$.\n",
    "\n",
    "#### Mutation\n",
    "\n",
    "* To mutate the current value, we flip each bit with a probability of $1/n$.\n",
    "* This means that each bit has an equal chance of being flipped from a 0 to a 1 or a 1 to a 0. The expected number of bits flipped is $1$, but it's possible that no bits are flipped, or all bits are flipped.\n",
    "\n",
    "Let's implement this in code.\n"
   ]
  },
  {
   "cell_type": "markdown",
   "metadata": {},
   "source": [
    "### Implementation\n",
    "\n",
    "We'll need to import a few libraries to help us with our implementation."
   ]
  },
  {
   "cell_type": "code",
   "execution_count": 1,
   "metadata": {},
   "outputs": [],
   "source": [
    "from random import randint, seed\n",
    "import numpy as np\n",
    "import pandas as pd\n",
    "import matplotlib.pyplot as plt\n",
    "import seaborn as sns\n",
    "\n",
    "bits = 8"
   ]
  },
  {
   "cell_type": "code",
   "execution_count": 2,
   "metadata": {},
   "outputs": [],
   "source": [
    "def Fitness(value: np.uint8) -> int:\n",
    "    return value.bit_count()"
   ]
  },
  {
   "cell_type": "code",
   "execution_count": 3,
   "metadata": {},
   "outputs": [],
   "source": [
    "def flip_bit(value: np.uint8, index: np.uint8) -> np.uint8:\n",
    "    \"\"\"Flip a specific bit in the given integer value.\"\"\"\n",
    "    return value ^ (1 << index)\n",
    "\n",
    "def mutate(value: np.uint8) -> np.uint8:\n",
    "    \"\"\"Mutate the given integer value by flipping all bits with a probability of 1/bits.\"\"\"\n",
    "    for i in range(bits):\n",
    "        if np.random.random() < 1/bits:\n",
    "            value = flip_bit(value, i)\n",
    "    return value\n",
    "\n",
    "def adapt(value: np.uint8, target: np.uint8) -> np.uint8:\n",
    "    \"\"\"Adapt the given value towards the target by either keeping it or mutating it.\"\"\"\n",
    "    return max(value, mutate(value), key=lambda x: Fitness(x))"
   ]
  },
  {
   "cell_type": "markdown",
   "metadata": {},
   "source": [
    "Now we've defined the `Fitness` function for evaluating solutions, and we have the `mutate` and `adapt` functions for evolving the solutions.\n",
    "\n",
    "We'll initialize a random value $X_0$ and a target value $X_T$, and then iteratively apply the `adapt` function to evolve the solution towards the target."
   ]
  },
  {
   "cell_type": "code",
   "execution_count": 15,
   "metadata": {},
   "outputs": [
    {
     "name": "stdout",
     "output_type": "stream",
     "text": [
      "Initial value: \t01000100\n",
      "Target value: \t11111111\n"
     ]
    },
    {
     "data": {
      "text/html": [
       "<div>\n",
       "<style scoped>\n",
       "    .dataframe tbody tr th:only-of-type {\n",
       "        vertical-align: middle;\n",
       "    }\n",
       "\n",
       "    .dataframe tbody tr th {\n",
       "        vertical-align: top;\n",
       "    }\n",
       "\n",
       "    .dataframe thead th {\n",
       "        text-align: right;\n",
       "    }\n",
       "</style>\n",
       "<table border=\"1\" class=\"dataframe\">\n",
       "  <thead>\n",
       "    <tr style=\"text-align: right;\">\n",
       "      <th></th>\n",
       "      <th>Value</th>\n",
       "      <th>bitstring</th>\n",
       "      <th>fitness</th>\n",
       "      <th>generation</th>\n",
       "    </tr>\n",
       "  </thead>\n",
       "  <tbody>\n",
       "    <tr>\n",
       "      <th>0</th>\n",
       "      <td>68</td>\n",
       "      <td>01000100</td>\n",
       "      <td>2</td>\n",
       "      <td>0</td>\n",
       "    </tr>\n",
       "    <tr>\n",
       "      <th>1</th>\n",
       "      <td>68</td>\n",
       "      <td>01000100</td>\n",
       "      <td>2</td>\n",
       "      <td>1</td>\n",
       "    </tr>\n",
       "    <tr>\n",
       "      <th>2</th>\n",
       "      <td>69</td>\n",
       "      <td>01000101</td>\n",
       "      <td>3</td>\n",
       "      <td>2</td>\n",
       "    </tr>\n",
       "    <tr>\n",
       "      <th>3</th>\n",
       "      <td>69</td>\n",
       "      <td>01000101</td>\n",
       "      <td>3</td>\n",
       "      <td>3</td>\n",
       "    </tr>\n",
       "    <tr>\n",
       "      <th>4</th>\n",
       "      <td>77</td>\n",
       "      <td>01001101</td>\n",
       "      <td>4</td>\n",
       "      <td>4</td>\n",
       "    </tr>\n",
       "  </tbody>\n",
       "</table>\n",
       "</div>"
      ],
      "text/plain": [
       "   Value bitstring  fitness  generation\n",
       "0     68  01000100        2           0\n",
       "1     68  01000100        2           1\n",
       "2     69  01000101        3           2\n",
       "3     69  01000101        3           3\n",
       "4     77  01001101        4           4"
      ]
     },
     "execution_count": 15,
     "metadata": {},
     "output_type": "execute_result"
    }
   ],
   "source": [
    "seed(1)\n",
    "initial_value: np.uint8 = randint(0, 2**bits - 1)\n",
    "target: np.uint8 = 2**bits - 1\n",
    "\n",
    "print(f\"Initial value: \\t{initial_value:0{bits}b}\")\n",
    "print(f\"Target value: \\t{target:0{bits}b}\")\n",
    "\n",
    "value = initial_value\n",
    "generation = 0\n",
    "value_history = [value]\n",
    "while Fitness(value, target) < bits:\n",
    "    value = adapt(value, target)\n",
    "    value_history.append(value)\n",
    "    generation += 1\n",
    "\n",
    "df = pd.DataFrame(np.array([value_history]).T, columns=['Value'])\n",
    "df['bitstring'] = df['Value'].apply(lambda x: f\"{x:0{bits}b}\")\n",
    "df['fitness'] = df['Value'].apply(lambda x: Fitness(x, target))\n",
    "df['generation'] = df.index\n",
    "df.head()"
   ]
  },
  {
   "cell_type": "markdown",
   "metadata": {},
   "source": [
    "And now, some plots to visualize the evolution of the solutions."
   ]
  },
  {
   "cell_type": "code",
   "execution_count": 16,
   "metadata": {},
   "outputs": [
    {
     "data": {
      "image/png": "[encoded data removed]",
      "text/plain": [
       "<Figure size 640x480 with 1 Axes>"
      ]
     },
     "metadata": {},
     "output_type": "display_data"
    }
   ],
   "source": [
    "plt.plot(df['generation'], df['fitness'])\n",
    "plt.xlabel('Generation')\n",
    "plt.ylabel('Fitness')\n",
    "plt.title('Fitness over Generations')\n",
    "plt.show()\n"
   ]
  },
  {
   "cell_type": "code",
   "execution_count": 17,
   "metadata": {},
   "outputs": [
    {
     "data": {
      "image/png": "[encoded data removed]",
      "text/plain": [
       "<Figure size 800x600 with 2 Axes>"
      ]
     },
     "metadata": {},
     "output_type": "display_data"
    }
   ],
   "source": [
    "# Create a binary matrix where 1 represents a correct bit and 0 represents an incorrect bit\n",
    "binary_matrix = df['bitstring'].apply(lambda x: [int(bit) == int(target_bit) for bit, target_bit in zip(x, f\"{target:0{bits}b}\")])\n",
    "heatmap_data = np.array(binary_matrix.tolist())\n",
    "\n",
    "plt.figure(figsize=(8, 6))\n",
    "sns.heatmap(heatmap_data, cmap='YlGnBu', cbar_kws={'label': 'Bit Correctness', 'ticks': [0, 1]})\n",
    "\n",
    "plt.title('Bit Correctness over Generations')\n",
    "plt.xlabel('Bit Position')\n",
    "plt.ylabel('Generation')\n",
    "\n",
    "plt.yticks(np.arange(0, len(df), 5), df['generation'][::5])\n",
    "plt.xticks(np.arange(0.5, bits + 0.5), range(bits))\n",
    "\n",
    "plt.show()\n"
   ]
  },
  {
   "cell_type": "markdown",
   "metadata": {},
   "source": [
    "One thing I like about this particular example is how around generation 15, the algorithm drops the 1 in position 4, in exchange for 2 1s in positions 0 and 2. This illustrates the stochastic nature of the algorithm, and demonstrates the tradeoffs between exploration and exploitation, a key phenomenon in the study of evolutionary algorithms."
   ]
  },
  {
   "cell_type": "markdown",
   "metadata": {},
   "source": [
    "### Conclusion\n",
    "\n",
    "This was a simple example to introduce the concept of genetic algorithms, and to showcase the power of these algorithms to evolve solutions to problems. We used a bitstring representation of the solutions, and a fitness function that counted the number of 1s in the bitstring. We then iteratively applied mutation and selection operations to evolve the solutions towards the target bitstring of all 1s.\n",
    "\n",
    "### Future work\n",
    "\n",
    "What if we were targeting a particular bitstring, e.g. `10110110`, instead of all 1s?\n",
    "\n",
    "What if the bitstring represented a real number, or multiple real numbers, and our fitness function depended on those values nonlinearly?\n",
    "\n",
    "What if we included crossover operations into the algorithm?"
   ]
  }
 ],
 "metadata": {
  "kernelspec": {
   "display_name": "Python 3",
   "language": "python",
   "name": "python3"
  },
  "language_info": {
   "codemirror_mode": {
    "name": "ipython",
    "version": 3
   },
   "file_extension": ".py",
   "mimetype": "text/x-python",
   "name": "python",
   "nbconvert_exporter": "python",
   "pygments_lexer": "ipython3",
   "version": "3.12.2"
  }
 },
 "nbformat": 4,
 "nbformat_minor": 2
}
